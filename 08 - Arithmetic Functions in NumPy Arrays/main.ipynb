{
 "cells": [
  {
   "cell_type": "code",
   "execution_count": 5,
   "metadata": {},
   "outputs": [],
   "source": [
    "import numpy as np"
   ]
  },
  {
   "cell_type": "code",
   "execution_count": 9,
   "metadata": {},
   "outputs": [
    {
     "name": "stdout",
     "output_type": "stream",
     "text": [
      "min 1 pos 0\n",
      "max 9 pos 8\n"
     ]
    }
   ],
   "source": [
    "ar = np.array([1,2,3,4,5,6,7,8,9])\n",
    "\n",
    "print(\"min\",np.min(ar),\"pos\",np.argmin(ar))\n",
    "print(\"max\",np.max(ar),\"pos\",np.argmax(ar))"
   ]
  },
  {
   "cell_type": "code",
   "execution_count": 15,
   "metadata": {},
   "outputs": [
    {
     "name": "stdout",
     "output_type": "stream",
     "text": [
      "min col [2 1 3] pos [0 0 0]\n",
      "min row [1 5] pos [1 1]\n",
      "max col [9 5 6] pos [1 1 1]\n",
      "max row [3 9] pos [2 0]\n",
      "sqrt [[1.41421356 1.         1.73205081]\n",
      " [3.         2.23606798 2.44948974]]\n"
     ]
    }
   ],
   "source": [
    "ar2 = np.array([[2,1,3],[9,5,6]])\n",
    "\n",
    "print(\"min col\", np.min(ar2, axis=0) ,\"pos\",np.argmin(ar2,axis=0))\n",
    "print(\"min row\", np.min(ar2, axis=1),\"pos\",np.argmin(ar2,axis=1))\n",
    "\n",
    "print(\"max col\", np.max(ar2, axis=0),\"pos\",np.argmax(ar2,axis=0))\n",
    "print(\"max row\", np.max(ar2, axis=1),\"pos\",np.argmax(ar2,axis=1))\n",
    "\n",
    "print(\"sqrt\", np.sqrt(ar2))"
   ]
  },
  {
   "cell_type": "code",
   "execution_count": 24,
   "metadata": {},
   "outputs": [
    {
     "name": "stdout",
     "output_type": "stream",
     "text": [
      "sin [ 8.41470985e-01  9.09297427e-01  1.41120008e-01  8.50903525e-01\n",
      "  0.00000000e+00  8.93996664e-01 -7.34641021e-06]\n",
      "cos [ 0.54030231 -0.41614684 -0.9899925   0.52532199  1.         -0.44807362\n",
      " -1.        ]\n"
     ]
    }
   ],
   "source": [
    "ar3 = np.array([1,2,3,45,0,90,3.1416])\n",
    "\n",
    "print(\"sin\",np.sin(ar3))\n",
    "print(\"cos\",np.cos(ar3))"
   ]
  },
  {
   "cell_type": "code",
   "execution_count": 26,
   "metadata": {},
   "outputs": [
    {
     "data": {
      "text/plain": [
       "array([ 1,  3,  6, 10, 15, 21])"
      ]
     },
     "execution_count": 26,
     "metadata": {},
     "output_type": "execute_result"
    }
   ],
   "source": [
    "ar4 = np.array([1,2,3,4,5,6])\n",
    "np.cumsum(ar4)"
   ]
  }
 ],
 "metadata": {
  "kernelspec": {
   "display_name": "Python 3",
   "language": "python",
   "name": "python3"
  },
  "language_info": {
   "codemirror_mode": {
    "name": "ipython",
    "version": 3
   },
   "file_extension": ".py",
   "mimetype": "text/x-python",
   "name": "python",
   "nbconvert_exporter": "python",
   "pygments_lexer": "ipython3",
   "version": "3.11.0"
  }
 },
 "nbformat": 4,
 "nbformat_minor": 2
}
