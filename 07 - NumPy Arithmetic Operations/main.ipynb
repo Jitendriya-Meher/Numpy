{
 "cells": [
  {
   "cell_type": "code",
   "execution_count": 75,
   "metadata": {},
   "outputs": [],
   "source": [
    "import numpy as np"
   ]
  },
  {
   "cell_type": "markdown",
   "metadata": {},
   "source": [
    "Arithmetic operations"
   ]
  },
  {
   "cell_type": "code",
   "execution_count": 76,
   "metadata": {},
   "outputs": [
    {
     "name": "stdout",
     "output_type": "stream",
     "text": [
      "[4 5 6 7 8]\n"
     ]
    },
    {
     "data": {
      "text/plain": [
       "array([2, 4, 6, 8, 7])"
      ]
     },
     "execution_count": 76,
     "metadata": {},
     "output_type": "execute_result"
    }
   ],
   "source": [
    "ar1 = np.array([1,2,3,4,5])\n",
    "\n",
    "varAdd1 = ar1 + 3\n",
    "print(varAdd1)\n",
    "\n",
    "ar2 = np.array([1,2,3,4,2])\n",
    "varAdd2 = ar1 + ar2\n",
    "varAdd2"
   ]
  },
  {
   "cell_type": "code",
   "execution_count": 77,
   "metadata": {},
   "outputs": [
    {
     "data": {
      "text/plain": [
       "array([0, 0, 0, 0, 3])"
      ]
     },
     "execution_count": 77,
     "metadata": {},
     "output_type": "execute_result"
    }
   ],
   "source": [
    "sub = ar1 - ar2\n",
    "sub"
   ]
  },
  {
   "cell_type": "code",
   "execution_count": 78,
   "metadata": {},
   "outputs": [
    {
     "data": {
      "text/plain": [
       "array([ 1,  4,  9, 16, 10])"
      ]
     },
     "execution_count": 78,
     "metadata": {},
     "output_type": "execute_result"
    }
   ],
   "source": [
    "mul = ar1 * ar2\n",
    "mul"
   ]
  },
  {
   "cell_type": "code",
   "execution_count": 79,
   "metadata": {},
   "outputs": [
    {
     "data": {
      "text/plain": [
       "array([1. , 1. , 1. , 1. , 2.5])"
      ]
     },
     "execution_count": 79,
     "metadata": {},
     "output_type": "execute_result"
    }
   ],
   "source": [
    "div = ar1 / ar2\n",
    "div"
   ]
  },
  {
   "cell_type": "code",
   "execution_count": 80,
   "metadata": {},
   "outputs": [
    {
     "data": {
      "text/plain": [
       "array([0, 0, 0, 0, 1])"
      ]
     },
     "execution_count": 80,
     "metadata": {},
     "output_type": "execute_result"
    }
   ],
   "source": [
    "mod = ar1 % ar2\n",
    "mod"
   ]
  },
  {
   "cell_type": "code",
   "execution_count": 81,
   "metadata": {},
   "outputs": [
    {
     "name": "stdout",
     "output_type": "stream",
     "text": [
      "[2 4 6 8 7]\n",
      "[0 0 0 0 3]\n",
      "[ 1  4  9 16 10]\n",
      "[1.  1.  1.  1.  2.5]\n",
      "[0 0 0 0 1]\n",
      "[  1   4  27 256  25]\n",
      "[1 2 3 4 5]\n",
      "[1 0 0 0 0]\n"
     ]
    }
   ],
   "source": [
    "print(np.add(ar1,ar2))\n",
    "print(np.subtract(ar1,ar2))\n",
    "print(np.multiply(ar1,ar2))\n",
    "print(np.divide(ar1,ar2))\n",
    "print(np.mod(ar1,ar2))\n",
    "print(np.power(ar1,ar2))\n",
    "print(ar1)\n",
    "print(np.reciprocal(ar1))"
   ]
  },
  {
   "cell_type": "code",
   "execution_count": 85,
   "metadata": {},
   "outputs": [
    {
     "name": "stdout",
     "output_type": "stream",
     "text": [
      "[[1 2 3 4]\n",
      " [1 2 3 4]]\n",
      "[[1 2 3 4]\n",
      " [1 2 3 4]]\n",
      "[[2 4 6 8]\n",
      " [2 4 6 8]]\n",
      "[[0 0 0 0]\n",
      " [0 0 0 0]]\n",
      "[[ 1  4  9 16]\n",
      " [ 1  4  9 16]]\n",
      "[[1. 1. 1. 1.]\n",
      " [1. 1. 1. 1.]]\n",
      "[[0 0 0 0]\n",
      " [0 0 0 0]]\n",
      "[[  1   4  27 256]\n",
      " [  1   4  27 256]]\n",
      "[[1 0 0 0]\n",
      " [1 0 0 0]]\n"
     ]
    }
   ],
   "source": [
    "ar1 = np.array([[1,2,3,4],[1,2,3,4]])\n",
    "ar2 = np.array([[1,2,3,4],[1,2,3,4]])\n",
    "print(ar1)\n",
    "print(ar2)\n",
    "\n",
    "print(np.add(ar1,ar2))\n",
    "print(np.subtract(ar1,ar2))\n",
    "print(np.multiply(ar1,ar2))\n",
    "print(np.divide(ar1,ar2))\n",
    "print(np.mod(ar1,ar2))\n",
    "print(np.power(ar1,ar2))\n",
    "print(np.reciprocal(ar1))"
   ]
  }
 ],
 "metadata": {
  "kernelspec": {
   "display_name": "Python 3",
   "language": "python",
   "name": "python3"
  },
  "language_info": {
   "codemirror_mode": {
    "name": "ipython",
    "version": 3
   },
   "file_extension": ".py",
   "mimetype": "text/x-python",
   "name": "python",
   "nbconvert_exporter": "python",
   "pygments_lexer": "ipython3",
   "version": "3.11.0"
  }
 },
 "nbformat": 4,
 "nbformat_minor": 2
}
